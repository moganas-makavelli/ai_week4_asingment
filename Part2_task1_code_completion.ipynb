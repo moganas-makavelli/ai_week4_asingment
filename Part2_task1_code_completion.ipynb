{
  "nbformat": 4,
  "nbformat_minor": 0,
  "metadata": {
    "colab": {
      "provenance": [],
      "authorship_tag": "ABX9TyOY2wWdEoRsd+TyCmktuWck",
      "include_colab_link": true
    },
    "kernelspec": {
      "name": "python3",
      "display_name": "Python 3"
    },
    "language_info": {
      "name": "python"
    }
  },
  "cells": [
    {
      "cell_type": "markdown",
      "metadata": {
        "id": "view-in-github",
        "colab_type": "text"
      },
      "source": [
        "<a href=\"https://colab.research.google.com/github/moganas-makavelli/ai_week4_asingment/blob/main/task1_code_completion.ipynb\" target=\"_parent\"><img src=\"https://colab.research.google.com/assets/colab-badge.svg\" alt=\"Open In Colab\"/></a>"
      ]
    },
    {
      "cell_type": "code",
      "source": [
        "# Task 1: AI-Powered Code Completion\n",
        "# Tool: GitHub Copilot or Tabnine\n",
        "# Objective: Compare AI-generated vs manual Python code for sorting a list of dictionaries by a key.\n"
      ],
      "metadata": {
        "id": "mFi3vNuKQn-6"
      },
      "execution_count": null,
      "outputs": []
    },
    {
      "cell_type": "code",
      "source": [
        "# === AI-Suggested Implementation ===\n",
        "def sort_dict_list_ai(data, key):\n",
        "    return sorted(data, key=lambda x: x[key])\n",
        "\n",
        "# Example data\n",
        "people = [\n",
        "    {\"name\": \"Alice\", \"age\": 25},\n",
        "    {\"name\": \"Bob\", \"age\": 22},\n",
        "    {\"name\": \"Charlie\", \"age\": 30}\n",
        "]\n",
        "\n",
        "print(sort_dict_list_ai(people, \"age\"))\n"
      ],
      "metadata": {
        "id": "nTaqc614Qtmt"
      },
      "execution_count": null,
      "outputs": []
    },
    {
      "cell_type": "markdown",
      "source": [],
      "metadata": {
        "id": "OPcTTwqMQsvu"
      }
    },
    {
      "cell_type": "code",
      "execution_count": null,
      "metadata": {
        "id": "DwgcndT4QJfb"
      },
      "outputs": [],
      "source": [
        "# === Manual Implementation ===\n",
        "def sort_dict_list_manual(data, key):\n",
        "    for i in range(len(data)):\n",
        "        for j in range(i + 1, len(data)):\n",
        "            if data[i][key] > data[j][key]:\n",
        "                data[i], data[j] = data[j], data[i]\n",
        "    return data\n",
        "\n",
        "people = [\n",
        "    {\"name\": \"Alice\", \"age\": 25},\n",
        "    {\"name\": \"Bob\", \"age\": 22},\n",
        "    {\"name\": \"Charlie\", \"age\": 30}\n",
        "]\n",
        "\n",
        "print(sort_dict_list_manual(people, \"age\"))\n"
      ]
    },
    {
      "cell_type": "code",
      "source": [
        "# Compare the outputs\n",
        "ai_result = sort_dict_list_ai(people, \"age\")\n",
        "manual_result = sort_dict_list_manual(people, \"age\")\n",
        "\n",
        "print(\"AI Result:\", ai_result)\n",
        "print(\"Manual Result:\", manual_result)\n"
      ],
      "metadata": {
        "id": "7FJ2D1PjQ5o3"
      },
      "execution_count": null,
      "outputs": []
    },
    {
      "cell_type": "markdown",
      "source": [
        "### Analysis (200 Words)\n",
        "\n",
        "The AI-suggested implementation using Python’s built-in `sorted()` function is more efficient and readable.\n",
        "It leverages Timsort, Python’s optimized hybrid sorting algorithm with average complexity of O(n log n).\n",
        "This makes it scalable for large datasets and reduces manual errors.  \n",
        "\n",
        "In contrast, the manual implementation uses nested loops for comparison and swapping, which results in\n",
        "O(n²) time complexity. While it demonstrates fundamental sorting logic, it’s less efficient and more\n",
        "error-prone when handling complex data structures.  \n",
        "\n",
        "The AI-generated code also automatically handles various data types (e.g., integers, strings)\n",
        "without additional validation. However, it lacks explicit error handling or contextual comments\n",
        "that a human might include.  \n",
        "\n",
        "Overall, Copilot’s version demonstrates how AI tools can speed up development and improve\n",
        "code quality by generating concise, maintainable solutions, freeing developers to focus\n",
        "on higher-level logic and design.\n"
      ],
      "metadata": {
        "id": "VFz6Qsi_Q9UT"
      }
    }
  ]
}
