{
  "nbformat": 4,
  "nbformat_minor": 0,
  "metadata": {
    "colab": {
      "provenance": [],
      "authorship_tag": "ABX9TyNz0a4llPlhWyzORZcywogi",
      "include_colab_link": true
    },
    "kernelspec": {
      "name": "python3",
      "display_name": "Python 3"
    },
    "language_info": {
      "name": "python"
    }
  },
  "cells": [
    {
      "cell_type": "markdown",
      "metadata": {
        "id": "view-in-github",
        "colab_type": "text"
      },
      "source": [
        "<a href=\"https://colab.research.google.com/github/moganas-makavelli/week4_ai_assignment/blob/main/task1_code_completion.ipynb\" target=\"_parent\"><img src=\"https://colab.research.google.com/assets/colab-badge.svg\" alt=\"Open In Colab\"/></a>"
      ]
    },
    {
      "cell_type": "code",
      "execution_count": 3,
      "metadata": {
        "id": "a_t0kT7oue5Y"
      },
      "outputs": [],
      "source": [
        "# Task 1: AI-Powered Code Completion\n",
        "# Tool: GitHub Copilot or Tabnine\n",
        "# Objective: Compare AI-generated vs manual Python code for sorting a list of dictionaries by a key.\n"
      ]
    },
    {
      "cell_type": "code",
      "source": [
        "# === AI-Suggested Implementation ===\n",
        "def sort_dict_list_ai(data, key):\n",
        "    return sorted(data, key=lambda x: x[key])\n",
        "\n",
        "# Example data\n",
        "people = [\n",
        "    {\"name\": \"Alice\", \"age\": 25},\n",
        "    {\"name\": \"Bob\", \"age\": 22},\n",
        "    {\"name\": \"Charlie\", \"age\": 30}\n",
        "]\n",
        "\n",
        "print(sort_dict_list_ai(people, \"age\"))\n"
      ],
      "metadata": {
        "colab": {
          "base_uri": "https://localhost:8080/"
        },
        "id": "upEZqIlPuzKp",
        "outputId": "5131646e-8caa-480f-8244-fda3bbadaf43"
      },
      "execution_count": 4,
      "outputs": [
        {
          "output_type": "stream",
          "name": "stdout",
          "text": [
            "[{'name': 'Bob', 'age': 22}, {'name': 'Alice', 'age': 25}, {'name': 'Charlie', 'age': 30}]\n"
          ]
        }
      ]
    },
    {
      "cell_type": "code",
      "source": [
        "# === Manual Implementation ===\n",
        "def sort_dict_list_manual(data, key):\n",
        "    for i in range(len(data)):\n",
        "        for j in range(i + 1, len(data)):\n",
        "            if data[i][key] > data[j][key]:\n",
        "                data[i], data[j] = data[j], data[i]\n",
        "    return data\n",
        "\n",
        "people = [\n",
        "    {\"name\": \"Alice\", \"age\": 25},\n",
        "    {\"name\": \"Bob\", \"age\": 22},\n",
        "    {\"name\": \"Charlie\", \"age\": 30}\n",
        "]\n",
        "\n",
        "print(sort_dict_list_manual(people, \"age\"))\n"
      ],
      "metadata": {
        "colab": {
          "base_uri": "https://localhost:8080/"
        },
        "id": "yFJCNqc0uv8O",
        "outputId": "b86bc467-904e-45b0-96dd-e4958c7b13fe"
      },
      "execution_count": 5,
      "outputs": [
        {
          "output_type": "stream",
          "name": "stdout",
          "text": [
            "[{'name': 'Bob', 'age': 22}, {'name': 'Alice', 'age': 25}, {'name': 'Charlie', 'age': 30}]\n"
          ]
        }
      ]
    },
    {
      "cell_type": "code",
      "source": [
        "# Compare the outputs\n",
        "ai_result = sort_dict_list_ai(people, \"age\")\n",
        "manual_result = sort_dict_list_manual(people, \"age\")\n",
        "\n",
        "print(\"AI Result:\", ai_result)\n",
        "print(\"Manual Result:\", manual_result)\n"
      ],
      "metadata": {
        "colab": {
          "base_uri": "https://localhost:8080/"
        },
        "id": "nCxXc06mvCpF",
        "outputId": "f61eeded-3e28-4301-bef8-8619175f9a06"
      },
      "execution_count": 6,
      "outputs": [
        {
          "output_type": "stream",
          "name": "stdout",
          "text": [
            "AI Result: [{'name': 'Bob', 'age': 22}, {'name': 'Alice', 'age': 25}, {'name': 'Charlie', 'age': 30}]\n",
            "Manual Result: [{'name': 'Bob', 'age': 22}, {'name': 'Alice', 'age': 25}, {'name': 'Charlie', 'age': 30}]\n"
          ]
        }
      ]
    },
    {
      "cell_type": "markdown",
      "source": [
        "### Analysis (200 Words)\n",
        "\n",
        "The AI-suggested implementation using Python’s built-in `sorted()` function is more efficient and readable.\n",
        "It leverages Timsort, Python’s optimized hybrid sorting algorithm with average complexity of O(n log n).\n",
        "This makes it scalable for large datasets and reduces manual errors.  \n",
        "\n",
        "In contrast, the manual implementation uses nested loops for comparison and swapping, which results in\n",
        "O(n²) time complexity. While it demonstrates fundamental sorting logic, it’s less efficient and more\n",
        "error-prone when handling complex data structures.  \n",
        "\n",
        "The AI-generated code also automatically handles various data types (e.g., integers, strings)\n",
        "without additional validation. However, it lacks explicit error handling or contextual comments\n",
        "that a human might include.  \n",
        "\n",
        "Overall, Copilot’s version demonstrates how AI tools can speed up development and improve\n",
        "code quality by generating concise, maintainable solutions, freeing developers to focus\n",
        "on higher-level logic and design.\n"
      ],
      "metadata": {
        "id": "EeCj5jZ9vwhu"
      }
    },
    {
      "cell_type": "code",
      "source": [],
      "metadata": {
        "id": "iGavvcr2vv9w"
      },
      "execution_count": null,
      "outputs": []
    }
  ]
}